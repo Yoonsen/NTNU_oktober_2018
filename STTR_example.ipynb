{
 "cells": [
  {
   "cell_type": "markdown",
   "metadata": {},
   "source": [
    "## Compute Standardized Type Toke Ratio\n",
    "\n",
    "TT is computed by averaging over type/token-ratio for each chunk.\n",
    "\n",
    "The service computing the ratio converts the text into lower case, and strips away numbers and punctuation."
   ]
  },
  {
   "cell_type": "code",
   "execution_count": 1,
   "metadata": {},
   "outputs": [
    {
     "name": "stdout",
     "output_type": "stream",
     "text": [
      "Updated file nbtext.py\n",
      "Updated file nbpictures.py\n"
     ]
    }
   ],
   "source": [
    "import module_update"
   ]
  },
  {
   "cell_type": "code",
   "execution_count": 2,
   "metadata": {},
   "outputs": [],
   "source": [
    "import nbtext as nb\n",
    "from nbtext import get_urn, sttr"
   ]
  },
  {
   "cell_type": "markdown",
   "metadata": {},
   "source": [
    "Fetch some URNs"
   ]
  },
  {
   "cell_type": "code",
   "execution_count": 5,
   "metadata": {},
   "outputs": [
    {
     "data": {
      "text/plain": [
       "[[2009083100034,\n",
       "  'Wichstrøm, Lars',\n",
       "  'Hvem sprang? Hvem sto igjen og hang?',\n",
       "  1993],\n",
       " [2015102808145, 'Brande, Marlie', 'Tre triste troll', 1975],\n",
       " [2012053106043, 'Irvine, Lucy', 'Rømling', 1987],\n",
       " [2009070304037,\n",
       "  'Fløtten, Tone',\n",
       "  'Sikkerhetsordninger i det norske arbeidsmarkedet',\n",
       "  1996],\n",
       " [2009091501030, 'Løvstad, Øivind', 'Vassdragsovervåking 1997', 1998],\n",
       " [2007112804021, '', 'Radio', 1993],\n",
       " [2012112308182, 'Bruun, Sverre', 'Lærebok i fysikk for realgymnasiet', 1933],\n",
       " [2009100700072,\n",
       "  '',\n",
       "  'Helligtrekongersaften eller Hva du vil av William Shakespeare',\n",
       "  1995],\n",
       " [2013012407130, '', 'Spesielle analysar', 1980],\n",
       " [2009090700087,\n",
       "  'Finsrud, Roar',\n",
       "  'Korrosjonskontroll ved Stange vannverk',\n",
       "  1996]]"
      ]
     },
     "execution_count": 5,
     "metadata": {},
     "output_type": "execute_result"
    }
   ],
   "source": [
    "urns = nb.get_urn()\n",
    "urns"
   ]
  },
  {
   "cell_type": "code",
   "execution_count": 105,
   "metadata": {},
   "outputs": [],
   "source": [
    "from ipywidgets import interact, interact_manual, FloatSlider, IntSlider, interactive, IntRangeSlider\n",
    "from IPython.display import HTML, display"
   ]
  },
  {
   "cell_type": "code",
   "execution_count": 203,
   "metadata": {},
   "outputs": [],
   "source": [
    "urns = interact_manual.options( manual_name='Get URNs')\n",
    "urns2 = interact_manual.options( manual_name='finn URNs')\n",
    "def f(tittel=\"\", lang=['nob','eng','ger'], period=IntRangeSlider(min=1750, max=2014, step=1, value=[1800,2000])):\n",
    "    result = nb.get_urn({'title':\"%{t}%\".format(t=tittel),'lang':lang, 'year':period[0], 'next': period[1] - period[0]})\n",
    "    return result\n",
    "\n",
    "def g(tittel=\"\", lang=['nob','eng','ger'], period=IntRangeSlider(min=1750, max=2014, step=1, value=[1800,2000])):\n",
    "    result = nb.get_urn({'title':\"%{t}%\".format(t=tittel),'lang':lang, 'year':period[0], 'next': period[1] - period[0]})\n",
    "    return result"
   ]
  },
  {
   "cell_type": "markdown",
   "metadata": {},
   "source": [
    "# Her bruker vi interact og widgets"
   ]
  },
  {
   "cell_type": "code",
   "execution_count": 205,
   "metadata": {},
   "outputs": [
    {
     "data": {
      "application/vnd.jupyter.widget-view+json": {
       "model_id": "dab81e0125e14b7691d1319c3d3b0899",
       "version_major": 2,
       "version_minor": 0
      },
      "text/plain": [
       "interactive(children=(Text(value='', description='tittel'), Dropdown(description='lang', options=('nob', 'eng'…"
      ]
     },
     "metadata": {},
     "output_type": "display_data"
    }
   ],
   "source": [
    "urn1 = urns(f)"
   ]
  },
  {
   "cell_type": "code",
   "execution_count": 204,
   "metadata": {},
   "outputs": [
    {
     "data": {
      "application/vnd.jupyter.widget-view+json": {
       "model_id": "71e506ad04a94ab886c9525d834db3ba",
       "version_major": 2,
       "version_minor": 0
      },
      "text/plain": [
       "interactive(children=(Text(value='', description='tittel'), Dropdown(description='lang', options=('nob', 'eng'…"
      ]
     },
     "metadata": {},
     "output_type": "display_data"
    }
   ],
   "source": [
    "urn0 = urns2(g)"
   ]
  },
  {
   "cell_type": "code",
   "execution_count": 207,
   "metadata": {},
   "outputs": [
    {
     "data": {
      "text/plain": [
       "\"[[2015052908099, '', 'Kavitasjon', 1967],\\n [2013082808085,\\n  'Nenseth, Vibeke',\\n  'KU-aktørenes praksis og vurderinger',\\n  1999],\\n [2015070608151,\\n  'Dyring, Anne-Karine',\\n  'Naturmark i utbyggingsområder =',\\n  1984],\\n [2008073104141, 'Foros, Per Bjørn', 'Har vi råd til vekst?', 1996],\\n [2010121420030, 'Kent, Larry', 'Avdød etterlyses', 1993],\\n [2006081400019,\\n  'Kiær, Johan',\\n  'lower Cambrian Holmia fauna at Tømten in Norway',\\n  1916],\\n [2009022604029, 'Hobøl, Vigdis', 'Hvor er vekk?', 2000],\\n [2012053103006, '', 'Tidens leksikon', 1975],\\n [2006083100090, 'Heiberg, Gunnar', 'Balkonen', 1970],\\n [2008102100079, '', 'Velferdsordningene i jordbruket', 2000]]\""
      ]
     },
     "execution_count": 207,
     "metadata": {},
     "output_type": "execute_result"
    }
   ],
   "source": [
    "urn1.widget.out.outputs[0]['data']['text/plain']"
   ]
  },
  {
   "cell_type": "code",
   "execution_count": 144,
   "metadata": {},
   "outputs": [],
   "source": [
    "def capture_widget_output(urner):\n",
    "    from ast import literal_eval\n",
    "    if len(urner.widget.out.outputs) > 0:\n",
    "        res = literal_eval(urner.widget.out.outputs[0]['data']['text/plain'])\n",
    "    else:\n",
    "        res = \"\"\n",
    "    return res"
   ]
  },
  {
   "cell_type": "code",
   "execution_count": 141,
   "metadata": {},
   "outputs": [
    {
     "data": {
      "text/plain": [
       "({'output_type': 'display_data',\n",
       "  'data': {'text/plain': '[[2014052708168,\\n  \\'Eriksen, Tore Linné\\',\\n  \\'Litteratur om det sørlige Afrika\\',\\n  1990],\\n [2009080301057, \\'Christensen, Tom\\', \\'Forvaltningspolitikk\\', 1997],\\n [2007021301065, \\'Churchill, Winston S.\\', \\'annen verdenskrig\\', 1949],\\n [2011082620007, \\'Bergh, Hallvard\\', \\'Det evige mausoleum\\', 1901],\\n [2009041400069, \\'Hem, Anne Brith\\', \\'Det gode møtet\\', 1998],\\n [2009021604159, \\'Allcroft, Britt\\', \\'kostbar skatt\\', 1997],\\n [2007111201076, \\'Trulsen, Thor\\', \\'Tørpepatriot i vinterbokser\\', 1992],\\n [2012032112001, \\'Frey, W.\\', \\'Dobbelttand, Fladhovedernes Høvding\\', 1891],\\n [2012071224007, \\'Thronsen, Gerh.\\', \\'Malurtaasen vel gjennem 25 år\\', 1939],\\n [2007042601112,\\n  \\'Fraenkl, Pavel\\',\\n  \\'Strindbergs dramatiske fantasi i \"Spöksonaten\"\\',\\n  1966]]'},\n",
       "  'metadata': {}},)"
      ]
     },
     "execution_count": 141,
     "metadata": {},
     "output_type": "execute_result"
    }
   ],
   "source": [
    "urner.widget.out.outputs"
   ]
  },
  {
   "cell_type": "code",
   "execution_count": 142,
   "metadata": {},
   "outputs": [
    {
     "data": {
      "text/plain": [
       "[[2014052708168,\n",
       "  'Eriksen, Tore Linné',\n",
       "  'Litteratur om det sørlige Afrika',\n",
       "  1990],\n",
       " [2009080301057, 'Christensen, Tom', 'Forvaltningspolitikk', 1997],\n",
       " [2007021301065, 'Churchill, Winston S.', 'annen verdenskrig', 1949],\n",
       " [2011082620007, 'Bergh, Hallvard', 'Det evige mausoleum', 1901],\n",
       " [2009041400069, 'Hem, Anne Brith', 'Det gode møtet', 1998],\n",
       " [2009021604159, 'Allcroft, Britt', 'kostbar skatt', 1997],\n",
       " [2007111201076, 'Trulsen, Thor', 'Tørpepatriot i vinterbokser', 1992],\n",
       " [2012032112001, 'Frey, W.', 'Dobbelttand, Fladhovedernes Høvding', 1891],\n",
       " [2012071224007, 'Thronsen, Gerh.', 'Malurtaasen vel gjennem 25 år', 1939],\n",
       " [2007042601112,\n",
       "  'Fraenkl, Pavel',\n",
       "  'Strindbergs dramatiske fantasi i \"Spöksonaten\"',\n",
       "  1966]]"
      ]
     },
     "execution_count": 142,
     "metadata": {},
     "output_type": "execute_result"
    }
   ],
   "source": [
    "capture_widget_output(urner)"
   ]
  },
  {
   "cell_type": "code",
   "execution_count": 48,
   "metadata": {},
   "outputs": [],
   "source": [
    "t = urns.widget.out.capture"
   ]
  },
  {
   "cell_type": "code",
   "execution_count": 49,
   "metadata": {},
   "outputs": [
    {
     "data": {
      "text/plain": [
       "<bound method Output.capture of Output(outputs=({'output_type': 'display_data', 'data': {'text/plain': '[[2012022913001, \\'Bohr, G.\\', \\'Resultater af de aritmetiske Opgaver\\', 1806],\\n [2007010400099, \\'Berg, Einar\\', \\'Livets sult\\', 1937],\\n [2008052612001,\\n  \\'Broch, O.J.\\',\\n  \\'Oversigt med Hensyn til de Resultater, hvortil man er kommen i det internationale Bureau for Maal og Vægt i Paris\\',\\n  1887],\\n [2014091008124,\\n  \\'Hambro, Edward\\',\\n  \\'Nyere forskningsresultater vedkommende den klassiske romerske civilprosess\\',\\n  1933],\\n [2016072608032, \\'\\', \\'annen femårsplan og resultatene av den første\\', 1932],\\n [2008082210009,\\n  \\'Stockfleth, N.V.\\',\\n  \\'Sendebrev til de Herrer Repræsentantere ved 12te ordentlige Storting, som den 7de Juni stemmede for det Forslag: \"Regjeringen anmodes om at anstille Undersøgelse, om og hvorvidt der skulle være Anledning til ved at bibringe de norske Lapper, især de i Sødistrikterne boende, Undervisning i det norske Sprog, at virke til dette Folks Oplysning samt at meddele næste Storting Resultatet af disse Undersøgelser\"\\',\\n  1848],\\n [2011112924034,\\n  \\'\\',\\n  \\'Trysil jernbanekomit`s Forhandlingsprotokol ført aarene 1892-1902 tilli gemed endel bilage samt resultaterne af jernbaneundersøgelserne 1901\\',\\n  1902],\\n [2016012908016,\\n  \\'\\',\\n  \\'Noen foreløpige resultater for den takserte del av Opland fylke 1949\\',\\n  1949],\\n [2014101606017,\\n  \\'Sejersted, Georg Wasmuth\\',\\n  \"Sultan Abdallah\\'s sidste kamp\",\\n  1926],\\n [2015090708086,\\n  \\'\\',\\n  \\'Hovedresultaterne af Folketællingen i Norge i Januar 1866\\',\\n  1868]]'}, 'metadata': {}},))>"
      ]
     },
     "execution_count": 49,
     "metadata": {},
     "output_type": "execute_result"
    }
   ],
   "source": [
    "t\n"
   ]
  },
  {
   "cell_type": "code",
   "execution_count": 52,
   "metadata": {},
   "outputs": [
    {
     "ename": "AttributeError",
     "evalue": "'function' object has no attribute 'value'",
     "output_type": "error",
     "traceback": [
      "\u001b[1;31m---------------------------------------------------------------------------\u001b[0m",
      "\u001b[1;31mAttributeError\u001b[0m                            Traceback (most recent call last)",
      "\u001b[1;32m<ipython-input-52-50e9643badb5>\u001b[0m in \u001b[0;36m<module>\u001b[1;34m()\u001b[0m\n\u001b[1;32m----> 1\u001b[1;33m \u001b[0murns\u001b[0m\u001b[1;33m.\u001b[0m\u001b[0mwidget\u001b[0m\u001b[1;33m.\u001b[0m\u001b[0mout\u001b[0m\u001b[1;33m.\u001b[0m\u001b[0mcapture\u001b[0m\u001b[1;33m.\u001b[0m\u001b[0mvalue\u001b[0m\u001b[1;33m\u001b[0m\u001b[0m\n\u001b[0m",
      "\u001b[1;31mAttributeError\u001b[0m: 'function' object has no attribute 'value'"
     ]
    }
   ],
   "source": [
    "urns.widget."
   ]
  },
  {
   "cell_type": "markdown",
   "metadata": {},
   "source": [
    "Compute sttr for each URN"
   ]
  },
  {
   "cell_type": "code",
   "execution_count": 34,
   "metadata": {
    "scrolled": true
   },
   "outputs": [
    {
     "ename": "TypeError",
     "evalue": "'Output' object is not iterable",
     "output_type": "error",
     "traceback": [
      "\u001b[1;31m---------------------------------------------------------------------------\u001b[0m",
      "\u001b[1;31mTypeError\u001b[0m                                 Traceback (most recent call last)",
      "\u001b[1;32m<ipython-input-34-1937b7e3d9a3>\u001b[0m in \u001b[0;36m<module>\u001b[1;34m()\u001b[0m\n\u001b[1;32m----> 1\u001b[1;33m \u001b[1;33m{\u001b[0m\u001b[0murn\u001b[0m\u001b[1;33m:\u001b[0m\u001b[0msttr\u001b[0m\u001b[1;33m(\u001b[0m\u001b[0murn\u001b[0m\u001b[1;33m,\u001b[0m \u001b[0mchunk\u001b[0m\u001b[1;33m=\u001b[0m\u001b[1;36m10000\u001b[0m\u001b[1;33m)\u001b[0m \u001b[1;32mfor\u001b[0m \u001b[0murn\u001b[0m \u001b[1;32min\u001b[0m \u001b[1;33m[\u001b[0m\u001b[0mu\u001b[0m\u001b[1;33m[\u001b[0m\u001b[1;36m0\u001b[0m\u001b[1;33m]\u001b[0m \u001b[1;32mfor\u001b[0m \u001b[0mu\u001b[0m \u001b[1;32min\u001b[0m \u001b[0murns\u001b[0m\u001b[1;33m.\u001b[0m\u001b[0mwidget\u001b[0m\u001b[1;33m.\u001b[0m\u001b[0mout\u001b[0m\u001b[1;33m]\u001b[0m\u001b[1;33m}\u001b[0m\u001b[1;33m\u001b[0m\u001b[0m\n\u001b[0m",
      "\u001b[1;31mTypeError\u001b[0m: 'Output' object is not iterable"
     ]
    }
   ],
   "source": [
    "{urn:sttr(urn, chunk=10000) for urn in [u[0] for u in urns.widget.out]}"
   ]
  },
  {
   "cell_type": "code",
   "execution_count": 32,
   "metadata": {},
   "outputs": [
    {
     "data": {
      "text/plain": [
       "<function __main__.f(tittel='', lang=['nob', 'eng', 'ger'], yearfrom=1800, yearto=1900)>"
      ]
     },
     "execution_count": 32,
     "metadata": {},
     "output_type": "execute_result"
    }
   ],
   "source": [
    "urns"
   ]
  },
  {
   "cell_type": "code",
   "execution_count": null,
   "metadata": {},
   "outputs": [],
   "source": [
    "nb.get_urnkonk()"
   ]
  }
 ],
 "metadata": {
  "kernelspec": {
   "display_name": "Python 3",
   "language": "python",
   "name": "python3"
  },
  "language_info": {
   "codemirror_mode": {
    "name": "ipython",
    "version": 3
   },
   "file_extension": ".py",
   "mimetype": "text/x-python",
   "name": "python",
   "nbconvert_exporter": "python",
   "pygments_lexer": "ipython3",
   "version": "3.6.5"
  }
 },
 "nbformat": 4,
 "nbformat_minor": 2
}
