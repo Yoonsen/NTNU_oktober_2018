{
 "cells": [
  {
   "cell_type": "markdown",
   "metadata": {},
   "source": [
    "## Compute Standardized Type Toke Ratio\n",
    "\n",
    "TT is computed by averaging over type/token-ratio for each chunk.\n",
    "\n",
    "The service computing the ratio converts the text into lower case, and strips away numbers and punctuation."
   ]
  },
  {
   "cell_type": "code",
   "execution_count": 1,
   "metadata": {},
   "outputs": [
    {
     "name": "stdout",
     "output_type": "stream",
     "text": [
      "Updated file nbtext.py\n",
      "Updated file nbpictures.py\n"
     ]
    }
   ],
   "source": [
    "import module_update"
   ]
  },
  {
   "cell_type": "code",
   "execution_count": 2,
   "metadata": {},
   "outputs": [],
   "source": [
    "import nbtext as nb\n",
    "from nbtext import get_urn, sttr"
   ]
  },
  {
   "cell_type": "markdown",
   "metadata": {},
   "source": [
    "Fetch some URNs"
   ]
  },
  {
   "cell_type": "code",
   "execution_count": 3,
   "metadata": {},
   "outputs": [],
   "source": [
    "nb.sttr??"
   ]
  },
  {
   "cell_type": "code",
   "execution_count": 11,
   "metadata": {},
   "outputs": [
    {
     "data": {
      "text/plain": [
       "[[2010110506032, 'Harang, Leiv', 'Luminosity curves of high aurorae', 1960],\n",
       " [2014061708024, 'Onsager, Nils', 'Fottur', 1930],\n",
       " [2011021508007, 'Aakvik, Geir', 'GS2 programbibliotek', 1996],\n",
       " [2008072804004, 'Drange, Arnold', 'Regnskap', 1983],\n",
       " [2014072208217, 'Kingo, Thomas', 'Revidert utgave av Kingos salmebok', 1994],\n",
       " [2013121708137,\n",
       "  '',\n",
       "  'En orientering om Norsk kulturråd og Norsk kulturfond',\n",
       "  1987],\n",
       " [2014051408053,\n",
       "  'Vaagland, Jorid',\n",
       "  'Frivillig aktivitet og offentlig politikk',\n",
       "  1992],\n",
       " [2013070208026, 'Hoel, Kari', 'Rånåsfoss kraftverk', 1989],\n",
       " [2009062404010,\n",
       "  'Heidlund, Egil',\n",
       "  'Dokumentasjon av lønnsstatistikken 1996',\n",
       "  1996],\n",
       " [2006083000029, 'Duun, Olav', 'På tvert', 1966]]"
      ]
     },
     "execution_count": 11,
     "metadata": {},
     "output_type": "execute_result"
    }
   ],
   "source": [
    "urns = nb.get_urn()\n",
    "urns"
   ]
  },
  {
   "cell_type": "markdown",
   "metadata": {},
   "source": [
    "Compute sttr for each URN"
   ]
  },
  {
   "cell_type": "code",
   "execution_count": 15,
   "metadata": {
    "scrolled": true
   },
   "outputs": [
    {
     "data": {
      "text/plain": [
       "{2010110506032: 0.2330806713589605,\n",
       " 2014061708024: 0.3127273943861387,\n",
       " 2011021508007: 0.1605674737010016,\n",
       " 2008072804004: 0.2766509932717612,\n",
       " 2014072208217: 0.2036840445530318,\n",
       " 2013121708137: 0.44611365120836055,\n",
       " 2014051408053: 0.2996588125099655,\n",
       " 2013070208026: 0.3419989594127481,\n",
       " 2009062404010: 0.2642458100541616,\n",
       " 2006083000029: 0.25555597273458247}"
      ]
     },
     "execution_count": 15,
     "metadata": {},
     "output_type": "execute_result"
    }
   ],
   "source": [
    "{urn:sttr(urn, chunk=10000) for urn in [u[0] for u in urns]}"
   ]
  }
 ],
 "metadata": {
  "kernelspec": {
   "display_name": "Python 3",
   "language": "python",
   "name": "python3"
  },
  "language_info": {
   "codemirror_mode": {
    "name": "ipython",
    "version": 3
   },
   "file_extension": ".py",
   "mimetype": "text/x-python",
   "name": "python",
   "nbconvert_exporter": "python",
   "pygments_lexer": "ipython3",
   "version": "3.6.4"
  }
 },
 "nbformat": 4,
 "nbformat_minor": 2
}
